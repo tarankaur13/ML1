{
 "cells": [
  {
   "cell_type": "code",
   "execution_count": 1,
   "id": "10fe873a",
   "metadata": {},
   "outputs": [
    {
     "name": "stdout",
     "output_type": "stream",
     "text": [
      "min : 19\n",
      "max : 26\n",
      "sorted ages : [19, 19, 20, 22, 24, 24, 24, 25, 25, 26]\n",
      "after adding min and max : [19, 19, 20, 22, 24, 24, 24, 25, 25, 26, 19, 26]\n",
      "median : 24\n",
      "average age : 22.8\n",
      "range : 7\n"
     ]
    }
   ],
   "source": [
    "#QUESTION1\n",
    "\n",
    "import statistics\n",
    "ages=[19,22,19,24,20,25,26,24,25,24]\n",
    "#sort the list using sort function\n",
    "ages.sort()\n",
    "#find minimum and maximum ages\n",
    "a=min(ages)\n",
    "b=max(ages)\n",
    "print('min :',a)\n",
    "print('max :',b)\n",
    "print(\"sorted ages :\",ages)\n",
    "#add minimum and maximum ages to the original list\n",
    "ages.extend([a,b])\n",
    "print(\"after adding min and max :\",ages)\n",
    "ages=[19,22,19,24,20,25,26,24,25,24]\n",
    "ages.sort()\n",
    "a=len(ages)\n",
    "#find median average and range of the given data list \n",
    "if(a%2==0) :\n",
    "    b=int(a/2)\n",
    "    median = int((ages[b]+ages[b-1])/2)\n",
    "else :\n",
    "    b=int(a/2)\n",
    "    median = int(ages[b])\n",
    "print(\"median :\",median)\n",
    "mean = sum (ages) / a\n",
    "print(\"average age :\",mean)\n",
    "print(\"range :\",(max(ages)-min(ages)))"
   ]
  },
  {
   "cell_type": "code",
   "execution_count": 4,
   "id": "9b5d65b4",
   "metadata": {},
   "outputs": [
    {
     "name": "stdout",
     "output_type": "stream",
     "text": [
      "<class 'dict'>\n",
      "{'Name': 'Zee', 'Color': 'white', 'Breed': 'husky', 'Legs': 4, 'age': 4}\n",
      "{'first_name': ' taran ', 'last_name': 'kaur', 'gender': 'female', 'age': 24, 'marital_status': 'Not Married', 'skills': ['Database', 'Python', 'AI'], 'country': 'US', 'city': 'Kansas', 'address': 'Antioch road'}\n",
      "9\n",
      "<class 'list'>\n",
      "['Database', 'Python', 'AI', 'python']\n",
      "['first_name', 'last_name', 'gender', 'age', 'marital_status', 'skills', 'country', 'city', 'address']\n",
      "[' taran ', 'kaur', 'female', 24, 'Not Married', ['Database', 'Python', 'AI', 'python'], 'US', 'Kansas', 'Antioch road']\n"
     ]
    }
   ],
   "source": [
    "#QUESTION2 \n",
    "#Create an empty dictionary called dog\n",
    "dog = {}\n",
    "print(type(dog))\n",
    "\n",
    "#Adding name, color, breed, legs, age to the dog dictionary\n",
    "dog = { \"Name\" : \"Zee\", \"Color\": \"white\" , \"Breed\" : \"husky\", \"Legs\" : 4, \"age\" : 4 } \n",
    "print(dog)\n",
    "\n",
    "#Create a student dictionary and add first_name, last_name, gender, age, marital status,skills, country, city and address as keys for the dictionary\n",
    "Student = {}\n",
    "Student = { \"first_name\": \" taran \", \"last_name\": \"kaur\", \"gender\":\"female\", \"age\":24, \"marital_status\": \"Not Married\", \"skills\":[\"Database\",\"Python\",\"AI\"], \"country\":\"US\",\"city\":\"Kansas\",\"address\": \"Antioch road\"}\n",
    "print(Student)\n",
    "\n",
    "#length of the student dictionary\n",
    "print(len(Student))\n",
    "\n",
    "#value of skills and check the data type, it should be a list\n",
    "Student[\"skills\"]\n",
    "print(type(Student[\"skills\"]))\n",
    "\n",
    "#Modifying the skill values by adding one or two skills\n",
    "Student[\"skills\"].append(\"python\")\n",
    "print(Student[\"skills\"])\n",
    "\n",
    "#Getting the dictionary keys as a list\n",
    "print (list(Student.keys()))\n",
    "\n",
    "#Getting the dictionary values as a list\n",
    "print (list(Student.values()))"
   ]
  },
  {
   "cell_type": "code",
   "execution_count": 5,
   "id": "a384e62b",
   "metadata": {},
   "outputs": [
    {
     "name": "stdout",
     "output_type": "stream",
     "text": [
      "('Jass', 'Mani', 'Vishu', 'nikhil', 'ankit', 'lucky')\n",
      "6\n",
      "('Jass', 'Mani', 'Vishu', 'nikhil', 'ankit', 'lucky', 'devi', 'daya')\n"
     ]
    }
   ],
   "source": [
    "#QUESTION3\n",
    "\"\"\"Create a tuple containing names of your sisters and your brothers (imaginary siblings are\n",
    "fine)\n",
    "Join brothers and sisters tuples and assign it to siblings\n",
    "How many siblings do you have?\n",
    "Modify the siblings tuple and add the name of your father and mother and assign it to\n",
    "family_members\"\"\"\n",
    "\n",
    "sisters=('Jass','Mani','Vishu')\n",
    "brothers=('nikhil','ankit','lucky')\n",
    "siblings= sisters+ brothers\n",
    "print(siblings)\n",
    "siblings_count=len(siblings)\n",
    "print(siblings_count)\n",
    "temp_siblings=list(siblings)\n",
    "temp_siblings.extend(['devi','daya'])\n",
    "\n",
    "family_members=tuple(temp_siblings)\n",
    "print(family_members)"
   ]
  },
  {
   "cell_type": "code",
   "execution_count": 4,
   "id": "8787014a",
   "metadata": {},
   "outputs": [
    {
     "name": "stdout",
     "output_type": "stream",
     "text": [
      "lenghth of set_itcompanies: 7\n",
      "After Adding 'Twitter' to it_companies: ['Facebook', 'Google', 'Microsoft', 'Apple', 'IBM', 'Oracle', 'Amazon', 'Twitter']\n",
      "After inserting multiple IT companies: ['Facebook', 'Google', 'Microsoft', 'Apple', 'IBM', 'Oracle', 'Amazon', 'Twitter', 'Microsoft', 'Google', 'Apple']\n",
      "['Google', 'Microsoft', 'Apple', 'IBM', 'Oracle', 'Amazon', 'Twitter', 'Microsoft', 'Google', 'Apple']\n"
     ]
    }
   ],
   "source": [
    "#QUESTION 4_1\n",
    "import numpy\n",
    "it_companies = ['Facebook', 'Google', 'Microsoft', 'Apple', 'IBM', 'Oracle', 'Amazon']\n",
    "#finding length of list\n",
    "print(\"lenghth of set_itcompanies:\",len(it_companies))\n",
    "#adding Twitter to list\n",
    "it_companies.append(\"Twitter\")\n",
    "print(\"After Adding 'Twitter' to it_companies:\",it_companies)\n",
    "#inserting ,multiple IT companies\n",
    "it_companies.extend([\"Microsoft\",\"Google\",\"Apple\"])\n",
    "print(\"After inserting multiple IT companies:\",it_companies)\n",
    "#Removing tcs from the set it_companies\n",
    "it_companies.remove(\"Facebook\")\n",
    "print(it_companies)"
   ]
  },
  {
   "cell_type": "code",
   "execution_count": 5,
   "id": "09f18df0",
   "metadata": {},
   "outputs": [
    {
     "name": "stdout",
     "output_type": "stream",
     "text": [
      "{19, 20, 22, 24, 25, 26, 27, 28}\n",
      "{19, 20, 22, 24, 25, 26}\n",
      "True\n",
      "False\n",
      "{19, 20, 22, 24, 25, 26, 27, 28}\n",
      "{27, 28}\n",
      "{19, 22, 24, 25, 26}\n",
      "True\n"
     ]
    }
   ],
   "source": [
    "#QUESTION 4_2\n",
    "a = {19, 22, 24, 20, 25, 26}\n",
    "b = {19, 22, 20, 25, 26, 24, 28, 27}\n",
    "age = [22, 19, 24, 25, 26, 24, 25, 24]\n",
    "#add a and b\n",
    "c=a.union(b) \n",
    "print(c)\n",
    "print(a.intersection(b))\n",
    "#Is a subset of b\n",
    "print(a.issubset(b))\n",
    "#are a and b disjoint sets\n",
    "print(a.isdisjoint(b))\n",
    "#Join a with b and b with a\n",
    "c=a.union(b)\n",
    "d=b.union(a)\n",
    "print(c.union(d))\n",
    "#the symmetric difference between a and b\n",
    "print(a.symmetric_difference(b))\n",
    "#deletE the sets completely\n",
    "a.clear()\n",
    "b.clear()\n",
    "#Convert the ages to a set and compare the length of the list and the set.\n",
    "print(set(age))\n",
    "print(len(set(age))<len(age))"
   ]
  },
  {
   "cell_type": "code",
   "execution_count": 6,
   "id": "f631f2dd",
   "metadata": {},
   "outputs": [
    {
     "name": "stdout",
     "output_type": "stream",
     "text": [
      "2827.4333882308138\n",
      "188.49555921538757\n",
      "please enter the radius : 30\n",
      "30\n",
      "2827.4333882308138\n"
     ]
    }
   ],
   "source": [
    "#QUESTION5\n",
    "#The radius of a circle is 30 meters.\n",
    "#Calculate the area of a circle and assign the value to a variable name of _area_of_circle_\n",
    "\n",
    "import math \n",
    "radius = 30\n",
    "#area of a circle formula = πr*r\n",
    "_area_of_circle_ = math.pi * (radius*radius)\n",
    "print(_area_of_circle_)\n",
    "\n",
    "#Calculate the circumference of a circle and assign the value to a variable name of _circum_of_circle_\n",
    "#circumference of a circle formula 2πr\n",
    "_circum_of_circle_ = 2*math.pi*radius\n",
    "print(_circum_of_circle_)\n",
    "\n",
    "#Take radius as user input and calculate the area.\n",
    "\n",
    "radius_up = int(input(\"please enter the radius : \"))\n",
    "print(radius_up)\n",
    "_area_of_circle_ = math.pi * (radius_up*radius_up)\n",
    "print(_area_of_circle_)"
   ]
  },
  {
   "cell_type": "code",
   "execution_count": 14,
   "id": "3abc0fc7",
   "metadata": {},
   "outputs": [
    {
     "name": "stdout",
     "output_type": "stream",
     "text": [
      "12\n",
      "10\n"
     ]
    }
   ],
   "source": [
    "#QUESTION6\n",
    "\n",
    "\"\"\"line=“I am a teacher and I love to inspire and teach people” \n",
    "• How many unique words have been used in the sentence? Use the split methods and set to get the unique words.\"\"\" \n",
    "line=\"I am a teacher and I love to inspire and teach people\" \n",
    "words_line=line.split(' ') \n",
    "print(len(words_line)) \n",
    "unique_words= set(words_line) \n",
    "unique_words=list(unique_words) \n",
    "print(len(unique_words)) "
   ]
  },
  {
   "cell_type": "code",
   "execution_count": 13,
   "id": "0ac58720",
   "metadata": {},
   "outputs": [
    {
     "name": "stdout",
     "output_type": "stream",
     "text": [
      "Name \tAge\tCountry\tCity\n",
      "Asabeneh 250\tFinland\tHelsinki\n"
     ]
    }
   ],
   "source": [
    "#QUESTION7\n",
    "\"\"\"Use a tab escape sequence to get the following lines. \n",
    "Name Age Country City \n",
    "Asabeneh 250 Finland Helsinki\"\"\" \n",
    "print('Name \\tAge\\tCountry\\tCity') \n",
    "print('Asabeneh 250\\tFinland\\tHelsinki') "
   ]
  },
  {
   "cell_type": "code",
   "execution_count": 12,
   "id": "6c965f88",
   "metadata": {},
   "outputs": [
    {
     "ename": "SyntaxError",
     "evalue": "invalid character '“' (U+201C) (2582600115.py, line 5)",
     "output_type": "error",
     "traceback": [
      "\u001b[1;36m  Input \u001b[1;32mIn [12]\u001b[1;36m\u001b[0m\n\u001b[1;33m    “The area of a circle with radius 10 is 314 meters square.”\"\"\"\u001b[0m\n\u001b[1;37m    ^\u001b[0m\n\u001b[1;31mSyntaxError\u001b[0m\u001b[1;31m:\u001b[0m invalid character '“' (U+201C)\n"
     ]
    }
   ],
   "source": [
    "#QUESTION8\n",
    "#Use the string formatting method to display the following:\n",
    "radius = 10\n",
    "area = 3.14 * radius ** 2\n",
    "#“The area of a circle with radius 10 is 314 meters square.”\n",
    "\n",
    "print('The area of the circle with radius %d is %i ms square.' %(radius, area))"
   ]
  },
  {
   "cell_type": "code",
   "execution_count": 10,
   "id": "d629f3e8",
   "metadata": {},
   "outputs": [
    {
     "name": "stdout",
     "output_type": "stream",
     "text": [
      "enter the number of students4\n",
      "enter the weights 150\n",
      "enter the weights 155\n",
      "enter the weights 154\n",
      "enter the weights 148\n",
      "Weights of students in lbs : [150, 155, 154, 148]\n",
      "Weights of students in kgs : [68.0388555, 70.30681735, 69.85322498000001, 67.13167076]\n"
     ]
    }
   ],
   "source": [
    "#Question9\n",
    "#Write a program, which reads weights (lbs.) of N students into a list and convert these weights to\n",
    "#kilograms in a separate list using Loop. N: No of students (Read input from user)\n",
    "\n",
    "lb_kg_conversion= 0.45359237\n",
    "N=int(input('enter the number of students')) \n",
    "L1=[] \n",
    "for i in range(N): \n",
    " L1.append(int(input('enter the weights ')))\n",
    "print(\"Weights of students in lbs :\", L1) \n",
    "output=[lb_kg_conversion*i for i in L1 ] \n",
    "print(\"Weights of students in kgs :\", output)"
   ]
  }
 ],
 "metadata": {
  "kernelspec": {
   "display_name": "Python 3 (ipykernel)",
   "language": "python",
   "name": "python3"
  },
  "language_info": {
   "codemirror_mode": {
    "name": "ipython",
    "version": 3
   },
   "file_extension": ".py",
   "mimetype": "text/x-python",
   "name": "python",
   "nbconvert_exporter": "python",
   "pygments_lexer": "ipython3",
   "version": "3.9.12"
  }
 },
 "nbformat": 4,
 "nbformat_minor": 5
}
